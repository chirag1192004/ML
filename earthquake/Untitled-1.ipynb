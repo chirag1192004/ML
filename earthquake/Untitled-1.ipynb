{
 "cells": [
  {
   "cell_type": "code",
   "execution_count": 8,
   "id": "fc6e3198",
   "metadata": {},
   "outputs": [
    {
     "name": "stdout",
     "output_type": "stream",
     "text": [
      "Step 1: Loading and inspecting the data...\n",
      "                                       title  magnitude         date_time  \\\n",
      "0           M 6.5 - 42 km W of Sola, Vanuatu        6.5  16-08-2023 12:47   \n",
      "1  M 6.5 - 43 km S of IntipucÃ¡, El Salvador        6.5  19-07-2023 00:22   \n",
      "2  M 6.6 - 25 km ESE of LoncopuÃ©, Argentina        6.6  17-07-2023 03:05   \n",
      "3      M 7.2 - 98 km S of Sand Point, Alaska        7.2  16-07-2023 06:48   \n",
      "4                   M 7.3 - Alaska Peninsula        7.3  16-07-2023 06:48   \n",
      "\n",
      "   cdi  mmi   alert  tsunami  sig net  nst      dmin    gap magType    depth  \\\n",
      "0    7    4   green        0  657  us  114  7.177000   25.0     mww  192.955   \n",
      "1    8    6  yellow        0  775  us   92  0.679000   40.0     mww   69.727   \n",
      "2    7    5   green        0  899  us   70  1.634000   28.0     mww  171.371   \n",
      "3    6    6   green        1  860  us  173  0.907000   36.0     mww   32.571   \n",
      "4    0    5     NaN        1  820  at   79  0.879451  172.8      Mi   21.000   \n",
      "\n",
      "   latitude  longitude                location      continent    country  \n",
      "0  -13.8814   167.1580           Sola, Vanuatu            NaN    Vanuatu  \n",
      "1   12.8140   -88.1265  IntipucÃ¡, El Salvador            NaN        NaN  \n",
      "2  -38.1911   -70.3731    LoncopuÃ©, Argentina  South America  Argentina  \n",
      "3   54.3844  -160.6990      Sand Point, Alaska            NaN        NaN  \n",
      "4   54.4900  -160.7960        Alaska Peninsula            NaN        NaN  \n",
      "<class 'pandas.core.frame.DataFrame'>\n",
      "RangeIndex: 1000 entries, 0 to 999\n",
      "Data columns (total 19 columns):\n",
      " #   Column     Non-Null Count  Dtype  \n",
      "---  ------     --------------  -----  \n",
      " 0   title      1000 non-null   object \n",
      " 1   magnitude  1000 non-null   float64\n",
      " 2   date_time  1000 non-null   object \n",
      " 3   cdi        1000 non-null   int64  \n",
      " 4   mmi        1000 non-null   int64  \n",
      " 5   alert      449 non-null    object \n",
      " 6   tsunami    1000 non-null   int64  \n",
      " 7   sig        1000 non-null   int64  \n",
      " 8   net        1000 non-null   object \n",
      " 9   nst        1000 non-null   int64  \n",
      " 10  dmin       1000 non-null   float64\n",
      " 11  gap        1000 non-null   float64\n",
      " 12  magType    1000 non-null   object \n",
      " 13  depth      1000 non-null   float64\n",
      " 14  latitude   1000 non-null   float64\n",
      " 15  longitude  1000 non-null   float64\n",
      " 16  location   994 non-null    object \n",
      " 17  continent  284 non-null    object \n",
      " 18  country    651 non-null    object \n",
      "dtypes: float64(6), int64(5), object(8)\n",
      "memory usage: 148.6+ KB\n",
      "None\n"
     ]
    }
   ],
   "source": [
    "import pandas as pd\n",
    "from sklearn.model_selection import train_test_split\n",
    "from sklearn.ensemble import RandomForestRegressor\n",
    "from sklearn.metrics import mean_absolute_error, mean_squared_error, r2_score\n",
    "\n",
    "# Step 1: Load and Inspect the Data\n",
    "print(\"Step 1: Loading and inspecting the data...\")\n",
    "df = pd.read_csv('earthquake_1995-2023.csv')\n",
    "print(df.head())\n",
    "print(df.info())\n",
    "\n"
   ]
  },
  {
   "cell_type": "code",
   "execution_count": 9,
   "id": "c6f367e5",
   "metadata": {},
   "outputs": [
    {
     "name": "stdout",
     "output_type": "stream",
     "text": [
      "\n",
      "Step 2: Preprocessing the data and creating features...\n"
     ]
    },
    {
     "name": "stderr",
     "output_type": "stream",
     "text": [
      "C:\\Users\\chira\\AppData\\Local\\Temp\\ipykernel_8376\\3925446305.py:4: UserWarning: Parsing dates in %d-%m-%Y %H:%M format when dayfirst=False (the default) was specified. Pass `dayfirst=True` or specify a format to silence this warning.\n",
      "  df['date_time'] = pd.to_datetime(df['date_time'], errors='coerce')\n"
     ]
    }
   ],
   "source": [
    "\n",
    "\n",
    "# Step 2: Data Preprocessing and Feature Engineering\n",
    "print(\"\\nStep 2: Preprocessing the data and creating features...\")\n",
    "# Convert 'date_time' to datetime objects\n",
    "df['date_time'] = pd.to_datetime(df['date_time'], errors='coerce')\n",
    "\n",
    "# Drop rows where 'date_time' conversion failed\n",
    "df.dropna(subset=['date_time'], inplace=True)\n",
    "\n",
    "# Extract time-based features\n",
    "df['year'] = df['date_time'].dt.year\n",
    "df['month'] = df['date_time'].dt.month\n",
    "df['day'] = df['date_time'].dt.day\n",
    "df['hour'] = df['date_time'].dt.hour\n",
    "df['minute'] = df['date_time'].dt.minute\n",
    "df['second'] = df['date_time'].dt.second\n",
    "\n",
    "# Define features (X) and target (y)\n",
    "features = ['latitude', 'longitude', 'depth', 'year', 'month', 'day']\n",
    "target = 'magnitude'\n",
    "\n",
    "# Drop rows with any missing values in the selected features or target\n",
    "df.dropna(subset=features + [target], inplace=True)\n",
    "\n",
    "X = df[features]\n",
    "y = df[target]\n",
    "\n"
   ]
  },
  {
   "cell_type": "code",
   "execution_count": 10,
   "id": "49bc65e2",
   "metadata": {},
   "outputs": [
    {
     "name": "stdout",
     "output_type": "stream",
     "text": [
      "\n",
      "Step 3: Splitting the data into training and testing sets...\n",
      "Training set size: 474 samples\n",
      "Testing set size: 119 samples\n"
     ]
    }
   ],
   "source": [
    "# Step 3: Split the data into training and testing sets\n",
    "print(\"\\nStep 3: Splitting the data into training and testing sets...\")\n",
    "X_train, X_test, y_train, y_test = train_test_split(X, y, test_size=0.2, random_state=42)\n",
    "print(f\"Training set size: {len(X_train)} samples\")\n",
    "print(f\"Testing set size: {len(X_test)} samples\")\n"
   ]
  },
  {
   "cell_type": "code",
   "execution_count": 11,
   "id": "44e25146",
   "metadata": {},
   "outputs": [
    {
     "name": "stdout",
     "output_type": "stream",
     "text": [
      "\n",
      "Step 4: Training the Random Forest Regressor model...\n",
      "Model training complete.\n"
     ]
    }
   ],
   "source": [
    "# Step 4: Train the Random Forest Regressor model\n",
    "print(\"\\nStep 4: Training the Random Forest Regressor model...\")\n",
    "model = RandomForestRegressor(n_estimators=100, random_state=42, n_jobs=-1)\n",
    "model.fit(X_train, y_train)\n",
    "print(\"Model training complete.\")\n",
    "\n"
   ]
  },
  {
   "cell_type": "code",
   "execution_count": 12,
   "id": "ddbb43b7",
   "metadata": {},
   "outputs": [
    {
     "name": "stdout",
     "output_type": "stream",
     "text": [
      "\n",
      "Step 5: Evaluating the model...\n",
      "Mean Absolute Error (MAE): 0.3505\n",
      "Mean Squared Error (MSE): 0.1922\n",
      "R-squared (R2) Score: -0.0677\n"
     ]
    }
   ],
   "source": [
    "# Step 5: Evaluate the model\n",
    "print(\"\\nStep 5: Evaluating the model...\")\n",
    "y_pred = model.predict(X_test)\n",
    "\n",
    "mae = mean_absolute_error(y_test, y_pred)\n",
    "mse = mean_squared_error(y_test, y_pred)\n",
    "r2 = r2_score(y_test, y_pred)\n",
    "\n",
    "print(f\"Mean Absolute Error (MAE): {mae:.4f}\")\n",
    "print(f\"Mean Squared Error (MSE): {mse:.4f}\")\n",
    "print(f\"R-squared (R2) Score: {r2:.4f}\")\n",
    "\n"
   ]
  },
  {
   "cell_type": "code",
   "execution_count": 13,
   "id": "5ac7a2a4",
   "metadata": {},
   "outputs": [
    {
     "name": "stdout",
     "output_type": "stream",
     "text": [
      "\n",
      "Step 6: Sample of Actual vs. Predicted Magnitudes\n",
      "     Actual  Predicted\n",
      "51      7.0      7.095\n",
      "127     6.6      6.764\n",
      "370     6.9      7.123\n",
      "709     7.1      7.677\n",
      "303     7.6      7.307\n"
     ]
    }
   ],
   "source": [
    "# Step 6: Displaying a sample of predictions vs. actual values\n",
    "print(\"\\nStep 6: Sample of Actual vs. Predicted Magnitudes\")\n",
    "results = pd.DataFrame({'Actual': y_test, 'Predicted': y_pred})\n",
    "print(results.head())"
   ]
  }
 ],
 "metadata": {
  "kernelspec": {
   "display_name": "Python 3",
   "language": "python",
   "name": "python3"
  },
  "language_info": {
   "codemirror_mode": {
    "name": "ipython",
    "version": 3
   },
   "file_extension": ".py",
   "mimetype": "text/x-python",
   "name": "python",
   "nbconvert_exporter": "python",
   "pygments_lexer": "ipython3",
   "version": "3.13.7"
  }
 },
 "nbformat": 4,
 "nbformat_minor": 5
}
